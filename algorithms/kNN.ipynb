{
 "cells": [
  {
   "cell_type": "code",
   "execution_count": null,
   "metadata": {},
   "outputs": [],
   "source": [
    "def euclidean_dist_all_dims(input_tuple, dataset_tuple):\n",
    "    distance = 0\n",
    "    max_dim = len(input_tuple.columns)-1 #ignore distance for last column; assuming it is class\n",
    "    for i in range(max_dim):\n",
    "        distance += (input_tuple.iat[0,i] - dataset_tuple.iat[0,i])**2\n",
    "    return py.sqrt(distance)\n",
    "\n",
    "def generate_neighbour_set(input_tuple, dataset):\n",
    "    d = []\n",
    "    max_dim = len(input_tuple.columns)-1 #ignore distance for last dimension - assuming class passed\n",
    "    size_of_dataset_tuple = len(dataset)\n",
    "    for i in range(size_of_dataset_tuple):\n",
    "        d.append((dataset.iat[i,max_dim], euclidean_dist_all_dims(input_tuple, dataset.iloc[i:i+1])))\n",
    "    return pd.DataFrame(d, columns=('Class', 'eu_dist'))\n",
    "\n",
    "def select_class_from_k_neighbours(neighbour_df, k):\n",
    "    sorted_neighbour_df = neighbour_df.sort_values(by='eu_dist',ascending=True);\n",
    "    return sorted_neighbour_df.head(k)['Class'].mode().iat[0]"
   ]
  },
  {
   "cell_type": "code",
   "execution_count": null,
   "metadata": {},
   "outputs": [],
   "source": [
    "a = []\n",
    "for i in range(len(test)):\n",
    "    max_dim = len(test.columns)-1 #ignore distance for last dimension - assuming it is class\n",
    "    \n",
    "    #compare entry from test to all those in train sets using k=5\n",
    "    a.append((test.iat[i, max_dim], select_class_from_k_neighbours(generate_neighbour_set(test.iloc[i:i+1],train), 3)))\n",
    "\n",
    "knn_results_df = pd.DataFrame(a, columns=('Actual', 'kNN-Implementation'))"
   ]
  },
  {
   "cell_type": "code",
   "execution_count": null,
   "metadata": {},
   "outputs": [],
   "source": [
    "#KNN with sklearn\n",
    "from sklearn.neighbors import KNeighborsClassifier\n",
    "neigh = KNeighborsClassifier(n_neighbors=3, algorithm='kd_tree')\n",
    "neigh.fit(train.drop(columns=['Class']), train['Class']) \n",
    "knn_results_sklearn = neigh.predict(test.drop(columns=['Class']))"
   ]
  },
  {
   "cell_type": "code",
   "execution_count": null,
   "metadata": {},
   "outputs": [],
   "source": [
    "#compare our predictions to sklearn's; highlight where different\n",
    "knn_results_df['sklearn'] = knn_results_sklearn\n",
    "knn_results_df[knn_results_df.apply(pd.Series.nunique, axis=1) != 1]"
   ]
  }
 ],
 "metadata": {
  "kernelspec": {
   "display_name": "Python 3",
   "language": "python",
   "name": "python3"
  },
  "language_info": {
   "codemirror_mode": {
    "name": "ipython",
    "version": 3
   },
   "file_extension": ".py",
   "mimetype": "text/x-python",
   "name": "python",
   "nbconvert_exporter": "python",
   "pygments_lexer": "ipython3",
   "version": "3.5.4"
  }
 },
 "nbformat": 4,
 "nbformat_minor": 2
}
