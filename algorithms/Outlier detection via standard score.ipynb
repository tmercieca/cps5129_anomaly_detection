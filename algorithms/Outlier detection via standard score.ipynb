{
 "cells": [
  {
   "cell_type": "code",
   "execution_count": null,
   "metadata": {},
   "outputs": [],
   "source": [
    "zscore_cc_df = cc_df.drop(columns=['Class'])\n",
    "cols = list(zscore_cc_df.columns)\n",
    "col_zscore_list = []\n",
    "\n",
    "for col in cols:\n",
    "    col_zscore = col + '_zscore'\n",
    "    col_zscore_list.append(col_zscore)\n",
    "    zscore_cc_df[col_zscore] = (zscore_cc_df[col] - zscore_cc_df[col].mean())/zscore_cc_df[col].std(ddof=0)\n",
    "zscore_cc_df[col_zscore_list] = zscore_cc_df[abs(zscore_cc_df) >= 2][col_zscore_list]\n",
    "\n",
    "#our df without outliers\n",
    "zscore_cc_df['outlier'] = zscore_cc_df[col_zscore_list].notnull().any(axis=1)"
   ]
  }
 ],
 "metadata": {
  "kernelspec": {
   "display_name": "Python 3",
   "language": "python",
   "name": "python3"
  },
  "language_info": {
   "codemirror_mode": {
    "name": "ipython",
    "version": 3
   },
   "file_extension": ".py",
   "mimetype": "text/x-python",
   "name": "python",
   "nbconvert_exporter": "python",
   "pygments_lexer": "ipython3",
   "version": "3.5.4"
  }
 },
 "nbformat": 4,
 "nbformat_minor": 2
}
