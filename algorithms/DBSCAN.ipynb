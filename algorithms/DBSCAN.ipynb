{
 "cells": [
  {
   "cell_type": "code",
   "execution_count": 1,
   "metadata": {
    "collapsed": true
   },
   "outputs": [],
   "source": [
    "import matplotlib.pyplot as plt\n",
    "#based on pseudocode by wikipedia\n",
    "#https://en.wikipedia.org/wiki/DBSCAN\n",
    "\n",
    "#return the distance between two multidimensional points\n",
    "def euclidean_dist_all_dims_dbscan(input_tuple, dataset_tuple):\n",
    "    distance = 0\n",
    "    dim_size = len(cc_df_list[0])\n",
    "    for i in range(dim_size):\n",
    "        distance += (input_tuple[i] - dataset_tuple[i])**2\n",
    "    return py.sqrt(distance)\n",
    "\n",
    "\n",
    "def region_query(point, eps, dataset):\n",
    "    reachable_points = []\n",
    "    for p in dataset:\n",
    "        dist = euclidean_dist_all_dims_dbscan(p, point)\n",
    "        #print ('point', point)\n",
    "        if  dist < eps:\n",
    "            reachable_points.append(p)\n",
    "    return reachable_points\n",
    "\n",
    "\n",
    "def DBSCAN(dataset, eps, min_pts):\n",
    "    outlier_list = []\n",
    "    visited_points_list = []\n",
    "    cluster_list = []\n",
    "    cluster_counter = 0\n",
    "    \n",
    "    for point in dataset:\n",
    "        #marking point as visited\n",
    "        visited_points_list.append(point) \n",
    "        \n",
    "        reachable_points = region_query(point, eps, dataset)\n",
    "        \n",
    "        if len(reachable_points) < min_pts:    \n",
    "            outlier_list.append(point)\n",
    "        else:\n",
    "            cluster_list.append(point)\n",
    "            cluster_counter+=1\n",
    "            expand_cluster(point, reachable_points, cluster_list, cluster_counter,eps, min_pts, dataset, visited_points_list)\n",
    "\n",
    "    print (\"Outliers:\", len(outlier_list))\n",
    "    print (\"Clusters: \" , len(cluster_list))\n",
    "\n",
    "def expand_cluster(point, reachable_points, cluster_list, cluster_counter, eps, min_pts, dataset, visited_points_list):\n",
    "    for point in reachable_points:\n",
    "        if point not in visited_points_list:\n",
    "            visited_points_list.append(point) \n",
    "            reachable_points_new = region_query(point, eps, dataset)\n",
    "            if len(reachable_points_new) >= min_pts:\n",
    "                reachable_points += reachable_points_new\n",
    "        if point not in (i for i in cluster_list):\n",
    "            cluster_list.append(point)"
   ]
  },
  {
   "cell_type": "code",
   "execution_count": 2,
   "metadata": {},
   "outputs": [
    {
     "ename": "NameError",
     "evalue": "name 'cc_df' is not defined",
     "output_type": "error",
     "traceback": [
      "\u001b[0;31m---------------------------------------------------------------------------\u001b[0m",
      "\u001b[0;31mNameError\u001b[0m                                 Traceback (most recent call last)",
      "\u001b[0;32m<ipython-input-2-94fcc971d268>\u001b[0m in \u001b[0;36m<module>\u001b[0;34m()\u001b[0m\n\u001b[1;32m      3\u001b[0m \u001b[0mmin_pts\u001b[0m \u001b[0;34m=\u001b[0m \u001b[0;36m4\u001b[0m\u001b[0;34m\u001b[0m\u001b[0m\n\u001b[1;32m      4\u001b[0m \u001b[0;34m\u001b[0m\u001b[0m\n\u001b[0;32m----> 5\u001b[0;31m \u001b[0mcc_df_list\u001b[0m \u001b[0;34m=\u001b[0m \u001b[0;34m[\u001b[0m\u001b[0mtuple\u001b[0m\u001b[0;34m(\u001b[0m\u001b[0mx\u001b[0m\u001b[0;34m)\u001b[0m \u001b[0;32mfor\u001b[0m \u001b[0mx\u001b[0m \u001b[0;32min\u001b[0m \u001b[0mcc_df\u001b[0m\u001b[0;34m.\u001b[0m\u001b[0mdrop\u001b[0m\u001b[0;34m(\u001b[0m\u001b[0mcolumns\u001b[0m\u001b[0;34m=\u001b[0m\u001b[0;34m[\u001b[0m\u001b[0;34m'Class'\u001b[0m\u001b[0;34m]\u001b[0m\u001b[0;34m)\u001b[0m\u001b[0;34m.\u001b[0m\u001b[0mvalues\u001b[0m\u001b[0;34m]\u001b[0m\u001b[0;34m\u001b[0m\u001b[0m\n\u001b[0m\u001b[1;32m      6\u001b[0m \u001b[0mcc_df_list\u001b[0m\u001b[0;34m\u001b[0m\u001b[0m\n\u001b[1;32m      7\u001b[0m \u001b[0;34m\u001b[0m\u001b[0m\n",
      "\u001b[0;31mNameError\u001b[0m: name 'cc_df' is not defined"
     ]
    }
   ],
   "source": [
    "#configure and run dbscan\n",
    "eps = 2\n",
    "min_pts = 4\n",
    "\n",
    "cc_df_list = [tuple(x) for x in cc_df.drop(columns=['Class']).values]\n",
    "cc_df_list\n",
    "\n",
    "DBSCAN(cc_df_list,eps,min_pts)"
   ]
  },
  {
   "cell_type": "code",
   "execution_count": null,
   "metadata": {
    "collapsed": true
   },
   "outputs": [],
   "source": []
  }
 ],
 "metadata": {
  "kernelspec": {
   "display_name": "Python 3",
   "language": "python",
   "name": "python3"
  },
  "language_info": {
   "codemirror_mode": {
    "name": "ipython",
    "version": 3
   },
   "file_extension": ".py",
   "mimetype": "text/x-python",
   "name": "python",
   "nbconvert_exporter": "python",
   "pygments_lexer": "ipython3",
   "version": "3.6.0"
  }
 },
 "nbformat": 4,
 "nbformat_minor": 2
}
