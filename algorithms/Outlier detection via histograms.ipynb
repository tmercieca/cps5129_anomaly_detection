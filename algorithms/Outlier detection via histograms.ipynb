{
 "cells": [
  {
   "cell_type": "code",
   "execution_count": 1,
   "metadata": {},
   "outputs": [],
   "source": [
    "import matplotlib.pyplot as plt\n",
    "\n",
    "#(feature value, feature histogram)\n",
    "def build_histogram_for_feature(feature, show, feature_name):\n",
    "    bins = np.ceil(np.sqrt(number_of_rows_in_df))\n",
    "    histogram = np.histogram(feature, bins=int(bins))\n",
    "    if show is True:\n",
    "        mu, sigma = 100, 15\n",
    "        x = mu + sigma * np.random.randn(10000)\n",
    "        hist, bins = histogram\n",
    "        width = 0.7 * (bins[1] - bins[0])\n",
    "        center = (bins[:-1] + bins[1:]) / 2\n",
    "        plt.bar(center, hist, align='center', width=width)\n",
    "        plt.title('Frequency per Bin for feature ' +feature_name)\n",
    "        plt.ylabel('Frequency')\n",
    "        plt.xlabel('Bins')\n",
    "        plt.show()\n",
    "    return histogram\n",
    "\n",
    "def is_point_outlier_using_histogram(point, histogram):\n",
    "    histogram_freq = histogram[0]\n",
    "    histogram_bins = histogram[1]\n",
    "    number_of_bins = histogram_bins.size\n",
    "    \n",
    "    for item in np.digitize(point,histogram_bins):\n",
    "        if point < histogram_bins[0]:\n",
    "            print('OUTLIER point greater than lower bound bin')\n",
    "            return True\n",
    "        elif point > histogram_bins[number_of_bins-1]:\n",
    "            print('OUTLIER point greater than upperbound bin')\n",
    "            print (item, histogram_bins[number_of_bins-1])\n",
    "            return True\n",
    "        elif histogram_freq[item] == 0:\n",
    "            #print (point, item, histogram)\n",
    "            print ('OUTLIER point in an empty bin')\n",
    "            return True\n",
    "        else:\n",
    "            return False"
   ]
  },
  {
   "cell_type": "code",
   "execution_count": null,
   "metadata": {},
   "outputs": [],
   "source": [
    "def is_feature_outlier_via_dataset(multidim_point, dataset):\n",
    "    dataset_features = dataset.drop(columns='Class').columns #todo: improve / catch error\n",
    "    \n",
    "    for feature in dataset_features:\n",
    "        histogram = build_histogram_for_feature(dataset[feature], True, feature)\n",
    "        \n",
    "        for index, point in enumerate(multidim_point):\n",
    "            if (is_point_outlier_using_histogram([point], histogram) == True):\n",
    "                return True\n",
    "    return False\n",
    "\n",
    "#using sample point\n",
    "is_feature_outlier_via_dataset([0.403034,-0.822843,0.502292,0.219422,0.215153],cc_df)"
   ]
  }
 ],
 "metadata": {
  "kernelspec": {
   "display_name": "Python 3",
   "language": "python",
   "name": "python3"
  },
  "language_info": {
   "codemirror_mode": {
    "name": "ipython",
    "version": 3
   },
   "file_extension": ".py",
   "mimetype": "text/x-python",
   "name": "python",
   "nbconvert_exporter": "python",
   "pygments_lexer": "ipython3",
   "version": "3.5.4"
  }
 },
 "nbformat": 4,
 "nbformat_minor": 2
}
