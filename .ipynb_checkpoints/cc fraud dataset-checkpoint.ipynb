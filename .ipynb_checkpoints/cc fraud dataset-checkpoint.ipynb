{
 "cells": [
  {
   "cell_type": "code",
   "execution_count": null,
   "metadata": {},
   "outputs": [],
   "source": [
    "%matplotlib inline\n",
    "#some imports\n",
    "import pandas as pd\n",
    "import numpy as py"
   ]
  },
  {
   "cell_type": "code",
   "execution_count": null,
   "metadata": {},
   "outputs": [],
   "source": [
    "#load dataset and describe it\n",
    "cc_df = pd.read_csv('creditcard.csv');\n",
    "cc_df.dropna(inplace=True)\n",
    "cc_df.describe()"
   ]
  },
  {
   "cell_type": "code",
   "execution_count": null,
   "metadata": {},
   "outputs": [],
   "source": [
    "#reduce dataset as desired\n",
    "cc_df = cc_df.head(2000)\n",
    "cc_df.drop(columns=['Time', 'Amount','V1','V2','V3', 'V5', 'V6', 'V7', 'V8', 'V9','V10','V12','V13','V14','V15','V16','V17','V18','V19','V20','V21', 'V22', 'V23', 'V24', 'V25'], inplace=True)"
   ]
  },
  {
   "cell_type": "code",
   "execution_count": null,
   "metadata": {},
   "outputs": [],
   "source": [
    "#normalization functionality between 0 and 1, min and max\n",
    "scaler = MinMaxScaler()\n",
    "print(scaler.fit_transform(cc_df))\n",
    "for index in cc_df.columns:\n",
    "    cc_df[[index]] = scaler.fit_transform(cc_df[[index]])"
   ]
  },
  {
   "cell_type": "code",
   "execution_count": null,
   "metadata": {},
   "outputs": [],
   "source": [
    "cc_df['Class'].value_counts(normalize=True)"
   ]
  },
  {
   "cell_type": "code",
   "execution_count": null,
   "metadata": {},
   "outputs": [],
   "source": [
    "#split into testing and training sets\n",
    "from sklearn.model_selection import train_test_split\n",
    "\n",
    "# Split data\n",
    "train, test = train_test_split(cc_df, test_size=0.3)"
   ]
  }
 ],
 "metadata": {
  "kernelspec": {
   "display_name": "Python 3",
   "language": "python",
   "name": "python3"
  },
  "language_info": {
   "codemirror_mode": {
    "name": "ipython",
    "version": 3
   },
   "file_extension": ".py",
   "mimetype": "text/x-python",
   "name": "python",
   "nbconvert_exporter": "python",
   "pygments_lexer": "ipython3",
   "version": "3.5.4"
  }
 },
 "nbformat": 4,
 "nbformat_minor": 2
}
