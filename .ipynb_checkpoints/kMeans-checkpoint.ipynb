{
 "cells": [
  {
   "cell_type": "code",
   "execution_count": 1,
   "metadata": {},
   "outputs": [],
   "source": [
    "# K Means Clustering\n",
    "from random import *\n",
    "\n",
    "def update_k_definitions(k_df, result_df):\n",
    "    for k in range(len(k_df)):\n",
    "         for i in range(dim_size):\n",
    "            k_df.iat[k,i] = result_df.groupby(['Class']).mean().iat[k,i]\n",
    "    return k_df\n",
    "\n",
    "def calculate_class(input_tuple, k_df):\n",
    "    shortest_dist = 9999999999\n",
    "    new_class = 9999999999\n",
    "    for k in k_df.iterrows():\n",
    "        k_tuple = pd.DataFrame(k[1]).transpose()\n",
    "        new_dist = euclidean_dist_all_dims(input_tuple, k_tuple)\n",
    "        if (new_dist <= shortest_dist):\n",
    "            shortest_dist = new_dist\n",
    "            new_class = k_tuple['Class'].iloc[0]\n",
    "    return new_class\n",
    "    \n",
    "def insert_entry(insert_tuple, k_df, result_df):\n",
    "    result_df = result_df.append(insert_tuple)\n",
    "    if ((1 in result_df['Class'].values) and (0 in result_df['Class'].values)):\n",
    "        k_df = update_k_definitions(k_df, result_df)\n",
    "    return result_df\n",
    "\n",
    "def generate_initial_k_values_randomly(k_df, k_count):\n",
    "    for k in range(k_count):   \n",
    "        d = []\n",
    "        for i in range(dim_size):\n",
    "            d.append(uniform(0.5,0.6))\n",
    "        to_insert = pd.DataFrame(d).transpose()\n",
    "        to_insert['Class'] = k\n",
    "        k_df = k_df.append(to_insert, ignore_index=True)\n",
    "    return k_df"
   ]
  },
  {
   "cell_type": "code",
   "execution_count": null,
   "metadata": {},
   "outputs": [],
   "source": [
    "k_count = 2\n",
    "k_df = pd.DataFrame()\n",
    "result_df = cc_df\n",
    "\n",
    "dim_size = len(cc_df.columns) -1\n",
    "\n",
    "k_df = generate_initial_k_values_randomly(k_df, 2)    \n",
    "cc_df.drop(columns='Class')\n",
    "cc_df['Class'] = calculate_class(cc_df, k_df)\n",
    "\n",
    "#run the k_means 20 or so times\n",
    "for j in range(20):\n",
    "    for i, row in result_df.iterrows():\n",
    "        insert_row = pd.DataFrame(row).transpose()\n",
    "        result_df.at[i,'Class'] = calculate_class(insert_row.drop(columns='Class'), k_df)    \n",
    "    update_k_definitions(k_df, result_df)"
   ]
  },
  {
   "cell_type": "code",
   "execution_count": null,
   "metadata": {},
   "outputs": [],
   "source": [
    "#view our result\n",
    "result_df['Class'].value_counts(normalize=True)"
   ]
  },
  {
   "cell_type": "code",
   "execution_count": null,
   "metadata": {},
   "outputs": [],
   "source": [
    "#try sklearn's implementation\n",
    "from sklearn.cluster import KMeans\n",
    "kmeans = KMeans(n_clusters=2, max_iter=10000000, algorithm='full', random_state=0).fit(cc_df.drop(columns=['Class']))\n",
    "kmeans.predict(cc_df.drop(columns=['Class']))"
   ]
  }
 ],
 "metadata": {
  "kernelspec": {
   "display_name": "Python 3",
   "language": "python",
   "name": "python3"
  },
  "language_info": {
   "codemirror_mode": {
    "name": "ipython",
    "version": 3
   },
   "file_extension": ".py",
   "mimetype": "text/x-python",
   "name": "python",
   "nbconvert_exporter": "python",
   "pygments_lexer": "ipython3",
   "version": "3.5.4"
  }
 },
 "nbformat": 4,
 "nbformat_minor": 2
}
